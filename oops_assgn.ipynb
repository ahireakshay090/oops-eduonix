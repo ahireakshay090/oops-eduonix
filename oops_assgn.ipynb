{
  "nbformat": 4,
  "nbformat_minor": 0,
  "metadata": {
    "colab": {
      "provenance": []
    },
    "kernelspec": {
      "name": "python3",
      "display_name": "Python 3"
    },
    "language_info": {
      "name": "python"
    }
  },
  "cells": [
    {
      "cell_type": "code",
      "source": [],
      "metadata": {
        "id": "NGJuurfhTpKF"
      },
      "execution_count": null,
      "outputs": []
    },
    {
      "cell_type": "markdown",
      "source": [
        "A.\tCreate a class named (Car)\n",
        "B.\tCall constructor\n"
      ],
      "metadata": {
        "id": "kfESwp2JTqNA"
      }
    },
    {
      "cell_type": "code",
      "execution_count": null,
      "metadata": {
        "id": "Atzm9DJEC3Ql"
      },
      "outputs": [],
      "source": [
        "class car:\n",
        "  def __init__(self):\n",
        "    print('car has 4 wheels')\n",
        "\n",
        "    #C.\tCreate 3 attributes under that (name, price, colour)\n",
        "class car:\n",
        "  def __init__(self,name,price,color):\n",
        "    self.name= name\n",
        "    self.price= price\n",
        "    self.color= color\n",
        "\n",
        "  def description(self):\n",
        "    return ' {} costs {} with {} color '.format(self.name,self.price,self.color)\n",
        "\n",
        "    #D.\tCreate 3 functions - 1. sound 2. speed 3. display (to display 1 and 2 fuctions)\n",
        "\n",
        "  def sound(self):\n",
        "    print('broom')\n",
        "\n",
        "  def speed(slef):\n",
        "    print('80kmps')\n",
        "\n",
        "  def disp(self):\n",
        "    print(self.sound,self.speed)\n",
        "\n",
        "    #E.\tCreate a child class named (Thar) and inherite Car\n",
        "class Thar(car):\n",
        "  def display(self):\n",
        "\n",
        "obj= Thar()\n",
        "obj.display()\n",
        "\n",
        "\n",
        "\n",
        "\n",
        "\n",
        "\n",
        "\n",
        "\n"
      ]
    },
    {
      "cell_type": "code",
      "source": [
        "#Problem: Try and Except\n",
        "\n",
        "try:\n",
        "    a = 10\n",
        "    b = 0\n",
        "    print(a/b)\n",
        "except ZeroDivisionError as e:\n",
        "    print(\"Error: Cannot divide by zero\")"
      ],
      "metadata": {
        "id": "DjmIIBiu6-RK",
        "colab": {
          "base_uri": "https://localhost:8080/"
        },
        "outputId": "7b9aaa25-e7bb-4973-c595-1e2c8b54498f"
      },
      "execution_count": 1,
      "outputs": [
        {
          "output_type": "stream",
          "name": "stdout",
          "text": [
            "Error: Cannot divide by zero\n"
          ]
        }
      ]
    },
    {
      "cell_type": "code",
      "source": [],
      "metadata": {
        "id": "8CDU6LMjhUgh"
      },
      "execution_count": null,
      "outputs": []
    }
  ]
}